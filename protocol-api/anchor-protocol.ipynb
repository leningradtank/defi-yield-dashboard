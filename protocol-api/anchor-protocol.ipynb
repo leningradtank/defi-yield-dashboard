{
 "cells": [
  {
   "cell_type": "code",
   "execution_count": 1,
   "metadata": {},
   "outputs": [
    {
     "name": "stdout",
     "output_type": "stream",
     "text": [
      "{'stable_denom': 'uusd', 'liquid_terra': '4171043816655377', 'exchange_rate': '1.18846925458075577', 'last_updated': 1644198665331, 'borrowed_terra': '1380769447080186.653332770911454205', 'utilization_ratio': '0.24870603197326010924', 'current_apy': '0.19428880416980334'}\n"
     ]
    }
   ],
   "source": [
    "import requests\n",
    "import numpy as np\n",
    "import pandas as pd\n",
    "\n",
    "\n",
    "res = requests.get(f'https://eth-api.anchorprotocol.com/api/v1/stablecoin_info/uusd').json()\n",
    "    \n",
    "print(res)\n",
    "\n"
   ]
  },
  {
   "cell_type": "code",
   "execution_count": 2,
   "metadata": {},
   "outputs": [
    {
     "data": {
      "text/html": [
       "<div>\n",
       "<style scoped>\n",
       "    .dataframe tbody tr th:only-of-type {\n",
       "        vertical-align: middle;\n",
       "    }\n",
       "\n",
       "    .dataframe tbody tr th {\n",
       "        vertical-align: top;\n",
       "    }\n",
       "\n",
       "    .dataframe thead th {\n",
       "        text-align: right;\n",
       "    }\n",
       "</style>\n",
       "<table border=\"1\" class=\"dataframe\">\n",
       "  <thead>\n",
       "    <tr style=\"text-align: right;\">\n",
       "      <th></th>\n",
       "      <th>symbol</th>\n",
       "      <th>apy</th>\n",
       "    </tr>\n",
       "  </thead>\n",
       "  <tbody>\n",
       "    <tr>\n",
       "      <th>0</th>\n",
       "      <td>uusd</td>\n",
       "      <td>19.43</td>\n",
       "    </tr>\n",
       "  </tbody>\n",
       "</table>\n",
       "</div>"
      ],
      "text/plain": [
       "  symbol    apy\n",
       "0   uusd  19.43"
      ]
     },
     "metadata": {},
     "output_type": "display_data"
    }
   ],
   "source": [
    "def get_bin_lockedsavings():\n",
    "\n",
    "    data_apy = {'symbol': [], 'apy': [], }\n",
    "    res = requests.get(f'https://eth-api.anchorprotocol.com/api/v1/stablecoin_info/uusd').json()\n",
    "    \n",
    "    data_apy['apy'].append(round(float(res['current_apy'])*100,2))\n",
    "    data_apy['symbol'].append(res['stable_denom'])\n",
    "    \n",
    "    df = pd.DataFrame(data_apy)\n",
    "    display(df)\n",
    "\n",
    "get_bin_lockedsavings()"
   ]
  }
 ],
 "metadata": {
  "interpreter": {
   "hash": "949777d72b0d2535278d3dc13498b2535136f6dfe0678499012e853ee9abcab1"
  },
  "kernelspec": {
   "display_name": "Python 3.9.7 64-bit",
   "language": "python",
   "name": "python3"
  },
  "language_info": {
   "codemirror_mode": {
    "name": "ipython",
    "version": 3
   },
   "file_extension": ".py",
   "mimetype": "text/x-python",
   "name": "python",
   "nbconvert_exporter": "python",
   "pygments_lexer": "ipython3",
   "version": "3.9.7"
  },
  "orig_nbformat": 4
 },
 "nbformat": 4,
 "nbformat_minor": 2
}
