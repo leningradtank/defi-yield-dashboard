{
 "cells": [
  {
   "cell_type": "code",
   "execution_count": 4,
   "id": "6986b9a9",
   "metadata": {},
   "outputs": [
    {
     "data": {
      "text/html": [
       "<div>\n",
       "<style scoped>\n",
       "    .dataframe tbody tr th:only-of-type {\n",
       "        vertical-align: middle;\n",
       "    }\n",
       "\n",
       "    .dataframe tbody tr th {\n",
       "        vertical-align: top;\n",
       "    }\n",
       "\n",
       "    .dataframe thead th {\n",
       "        text-align: right;\n",
       "    }\n",
       "</style>\n",
       "<table border=\"1\" class=\"dataframe\">\n",
       "  <thead>\n",
       "    <tr style=\"text-align: right;\">\n",
       "      <th></th>\n",
       "      <th>name</th>\n",
       "      <th>symbol</th>\n",
       "      <th>apr</th>\n",
       "      <th>apy</th>\n",
       "    </tr>\n",
       "  </thead>\n",
       "  <tbody>\n",
       "    <tr>\n",
       "      <th>0</th>\n",
       "      <td>pickling SushiSwap LP Token</td>\n",
       "      <td>pSLP</td>\n",
       "      <td>9.63</td>\n",
       "      <td>9.63</td>\n",
       "    </tr>\n",
       "    <tr>\n",
       "      <th>1</th>\n",
       "      <td>yveCRV</td>\n",
       "      <td>yveCRV-DAO</td>\n",
       "      <td>4.80</td>\n",
       "      <td>4.80</td>\n",
       "    </tr>\n",
       "    <tr>\n",
       "      <th>2</th>\n",
       "      <td>USDC</td>\n",
       "      <td>yUSDC</td>\n",
       "      <td>0.00</td>\n",
       "      <td>0.00</td>\n",
       "    </tr>\n",
       "    <tr>\n",
       "      <th>3</th>\n",
       "      <td>curve.fi/y</td>\n",
       "      <td>yyDAI+yUSDC+yUSDT+yTUSD</td>\n",
       "      <td>1.16</td>\n",
       "      <td>1.10</td>\n",
       "    </tr>\n",
       "    <tr>\n",
       "      <th>4</th>\n",
       "      <td>TUSD</td>\n",
       "      <td>yTUSD</td>\n",
       "      <td>8.79</td>\n",
       "      <td>7.28</td>\n",
       "    </tr>\n",
       "    <tr>\n",
       "      <th>...</th>\n",
       "      <td>...</td>\n",
       "      <td>...</td>\n",
       "      <td>...</td>\n",
       "      <td>...</td>\n",
       "    </tr>\n",
       "    <tr>\n",
       "      <th>122</th>\n",
       "      <td>yvCurve-DOLA 0.4.3</td>\n",
       "      <td>yvCurve-DOLA</td>\n",
       "      <td>8.19</td>\n",
       "      <td>4.67</td>\n",
       "    </tr>\n",
       "    <tr>\n",
       "      <th>123</th>\n",
       "      <td>yvCurve-USDP 0.4.3</td>\n",
       "      <td>yvCurve-USDP</td>\n",
       "      <td>2.85</td>\n",
       "      <td>0.42</td>\n",
       "    </tr>\n",
       "    <tr>\n",
       "      <th>124</th>\n",
       "      <td>yvYFIETH-f 0.4.3</td>\n",
       "      <td>yvYFIETH-f</td>\n",
       "      <td>24.44</td>\n",
       "      <td>17.96</td>\n",
       "    </tr>\n",
       "    <tr>\n",
       "      <th>125</th>\n",
       "      <td>yvCurve-rETHwstETH 0.4.3</td>\n",
       "      <td>yvCurve-rETHwstETH</td>\n",
       "      <td>1.76</td>\n",
       "      <td>0.00</td>\n",
       "    </tr>\n",
       "    <tr>\n",
       "      <th>126</th>\n",
       "      <td>yvCurve-stETH-WETH 0.4.3</td>\n",
       "      <td>yvCurve-stETH-WETH</td>\n",
       "      <td>6.15</td>\n",
       "      <td>3.61</td>\n",
       "    </tr>\n",
       "  </tbody>\n",
       "</table>\n",
       "<p>127 rows × 4 columns</p>\n",
       "</div>"
      ],
      "text/plain": [
       "                            name                   symbol    apr    apy\n",
       "0    pickling SushiSwap LP Token                     pSLP   9.63   9.63\n",
       "1                         yveCRV               yveCRV-DAO   4.80   4.80\n",
       "2                           USDC                    yUSDC   0.00   0.00\n",
       "3                     curve.fi/y  yyDAI+yUSDC+yUSDT+yTUSD   1.16   1.10\n",
       "4                           TUSD                    yTUSD   8.79   7.28\n",
       "..                           ...                      ...    ...    ...\n",
       "122           yvCurve-DOLA 0.4.3             yvCurve-DOLA   8.19   4.67\n",
       "123           yvCurve-USDP 0.4.3             yvCurve-USDP   2.85   0.42\n",
       "124             yvYFIETH-f 0.4.3               yvYFIETH-f  24.44  17.96\n",
       "125     yvCurve-rETHwstETH 0.4.3       yvCurve-rETHwstETH   1.76   0.00\n",
       "126     yvCurve-stETH-WETH 0.4.3       yvCurve-stETH-WETH   6.15   3.61\n",
       "\n",
       "[127 rows x 4 columns]"
      ]
     },
     "metadata": {},
     "output_type": "display_data"
    }
   ],
   "source": [
    "import requests\n",
    "import numpy as np\n",
    "import pandas as pd\n",
    "\n",
    "def get_bin_lockedsavings():\n",
    "\n",
    "    data_apy = {'name': [], 'symbol': [], 'apr': [], 'apy': []}\n",
    "    res = requests.get(f'https://api.yearn.finance/v1/chains/1/vaults/all').json()\n",
    "    \n",
    "    for i in range(len(res)):\n",
    "\n",
    "        data_apy['apr'].append(round(res[i]['apy']['gross_apr']*100, 2))\n",
    "        data_apy['apy'].append(round(res[i]['apy']['net_apy']*100, 2))\n",
    "        data_apy['name'].append(res[i]['name'])\n",
    "        data_apy['symbol'].append(res[i]['symbol'])\n",
    "    \n",
    "    df = pd.DataFrame(data_apy)\n",
    "    display(df)\n",
    "    #print(res)\n",
    "\n",
    "get_bin_lockedsavings()"
   ]
  },
  {
   "cell_type": "code",
   "execution_count": 7,
   "id": "bbb71b3f",
   "metadata": {},
   "outputs": [],
   "source": [
    "def get_aave_pool():\n",
    "    \n",
    "    res = requests.get(f'https://aave-api-v2.aave.com/data/pools').json()\n",
    "    print(res)"
   ]
  },
  {
   "cell_type": "code",
   "execution_count": 8,
   "id": "ba580ef4",
   "metadata": {},
   "outputs": [
    {
     "name": "stdout",
     "output_type": "stream",
     "text": [
      "[{'liquidity': {'usd': 227389528.12318778, 'eth': 128058.82108440169, 'native': 2443547.166714394}, 'price': {'eth': 0.052406936452382966, 'usd': 93.05714709363966}, 'address': '0x4da27a545c0c5B758a6BA100e3a049001de870f5', 'apy': 8.21, 'name': 'Staked Aave', 'symbol': 'stkAAVE', 'updatedAt': '2022-05-29T05:45:52.985Z'}, {'liquidity': {'usd': 130773205.00598802, 'eth': 73647.46565384108, 'native': 1051441206.078768}, 'price': {'eth': 7.0044302266316e-05, 'usd': 0.12437519497042732}, 'address': '0xa1116930326D21fB917d5A27F1E9943A9595fb47', 'apy': 14.28, 'name': 'Staked Aave Balancer Pool Token', 'symbol': 'stkABPT', 'updatedAt': '2022-05-29T05:45:52.987Z'}]\n"
     ]
    }
   ],
   "source": [
    "get_aave_pool()"
   ]
  },
  {
   "cell_type": "code",
   "execution_count": null,
   "id": "fd4b7305",
   "metadata": {},
   "outputs": [],
   "source": []
  },
  {
   "cell_type": "code",
   "execution_count": null,
   "id": "26591765",
   "metadata": {},
   "outputs": [],
   "source": []
  },
  {
   "cell_type": "code",
   "execution_count": null,
   "id": "670fdbce",
   "metadata": {},
   "outputs": [],
   "source": []
  },
  {
   "cell_type": "code",
   "execution_count": null,
   "id": "d03c1f31",
   "metadata": {},
   "outputs": [],
   "source": []
  },
  {
   "cell_type": "code",
   "execution_count": null,
   "id": "03d1f8d3",
   "metadata": {},
   "outputs": [],
   "source": []
  },
  {
   "cell_type": "code",
   "execution_count": null,
   "id": "09fd22fe",
   "metadata": {},
   "outputs": [],
   "source": []
  },
  {
   "cell_type": "code",
   "execution_count": null,
   "id": "717c7fe3",
   "metadata": {},
   "outputs": [],
   "source": []
  }
 ],
 "metadata": {
  "kernelspec": {
   "display_name": "Python 3 (ipykernel)",
   "language": "python",
   "name": "python3"
  },
  "language_info": {
   "codemirror_mode": {
    "name": "ipython",
    "version": 3
   },
   "file_extension": ".py",
   "mimetype": "text/x-python",
   "name": "python",
   "nbconvert_exporter": "python",
   "pygments_lexer": "ipython3",
   "version": "3.8.9"
  }
 },
 "nbformat": 4,
 "nbformat_minor": 5
}
