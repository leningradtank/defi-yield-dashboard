{
 "cells": [
  {
   "cell_type": "code",
   "execution_count": 2,
   "metadata": {},
   "outputs": [
    {
     "name": "stdout",
     "output_type": "stream",
     "text": [
      "{'lendRates': [{'apr': 0.09682497683005982, 'tokenSymbol': 'USDC', 'apy': 0.09944727190528035}], 'borrowRates': [{'apr': 0, 'tokenSymbol': 'USDC', 'apy': 0}]}\n"
     ]
    }
   ],
   "source": [
    "#https://www.maple.finance/\n",
    "import requests\n",
    "import numpy as np\n",
    "import pandas as pd\n",
    "first_response = requests.get('https://api.maple.finance/rates')\n",
    "response_list = first_response.json()\n",
    "res = response_list['lendRates']\n",
    "print(response_list)"
   ]
  },
  {
   "cell_type": "code",
   "execution_count": 3,
   "metadata": {},
   "outputs": [
    {
     "data": {
      "text/html": [
       "<div>\n",
       "<style scoped>\n",
       "    .dataframe tbody tr th:only-of-type {\n",
       "        vertical-align: middle;\n",
       "    }\n",
       "\n",
       "    .dataframe tbody tr th {\n",
       "        vertical-align: top;\n",
       "    }\n",
       "\n",
       "    .dataframe thead th {\n",
       "        text-align: right;\n",
       "    }\n",
       "</style>\n",
       "<table border=\"1\" class=\"dataframe\">\n",
       "  <thead>\n",
       "    <tr style=\"text-align: right;\">\n",
       "      <th></th>\n",
       "      <th>symbol</th>\n",
       "      <th>apy</th>\n",
       "      <th>apr</th>\n",
       "    </tr>\n",
       "  </thead>\n",
       "  <tbody>\n",
       "    <tr>\n",
       "      <th>0</th>\n",
       "      <td>USDC</td>\n",
       "      <td>9.94</td>\n",
       "      <td>9.68</td>\n",
       "    </tr>\n",
       "  </tbody>\n",
       "</table>\n",
       "</div>"
      ],
      "text/plain": [
       "  symbol   apy   apr\n",
       "0   USDC  9.94  9.68"
      ]
     },
     "metadata": {},
     "output_type": "display_data"
    }
   ],
   "source": [
    "def get_maple():\n",
    "\n",
    "    data_apy = {'symbol': [], 'apy': [], 'apr': []}\n",
    "    res_draft = requests.get(f'https://api.maple.finance/rates').json()\n",
    "    res = res_draft['lendRates']\n",
    "    \n",
    "    data_apy['symbol'].append(res[0]['tokenSymbol'])\n",
    "    data_apy['apy'].append(round(float(res[0]['apy'])*100,2))\n",
    "    data_apy['apr'].append(round(float(res[0]['apr'])*100,2))\n",
    "    \n",
    "    df = pd.DataFrame(data_apy)\n",
    "    display(df)\n",
    "    \n",
    "get_maple()\n"
   ]
  }
 ],
 "metadata": {
  "interpreter": {
   "hash": "949777d72b0d2535278d3dc13498b2535136f6dfe0678499012e853ee9abcab1"
  },
  "kernelspec": {
   "display_name": "Python 3.9.7 64-bit",
   "language": "python",
   "name": "python3"
  },
  "language_info": {
   "codemirror_mode": {
    "name": "ipython",
    "version": 3
   },
   "file_extension": ".py",
   "mimetype": "text/x-python",
   "name": "python",
   "nbconvert_exporter": "python",
   "pygments_lexer": "ipython3",
   "version": "3.9.7"
  },
  "orig_nbformat": 4
 },
 "nbformat": 4,
 "nbformat_minor": 2
}
