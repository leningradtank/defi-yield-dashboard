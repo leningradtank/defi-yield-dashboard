{
 "cells": [
  {
   "cell_type": "code",
   "execution_count": 71,
   "id": "ccd0b495",
   "metadata": {},
   "outputs": [],
   "source": [
    "import requests\n",
    "import json\n",
    "import pandas as pd\n",
    "import matplotlib.pyplot as plt\n",
    "import time as time\n",
    "import numpy as np\n"
   ]
  },
  {
   "cell_type": "code",
   "execution_count": 72,
   "id": "d16bffa0",
   "metadata": {},
   "outputs": [],
   "source": [
    "#https://thegraph.com/hosted-service/subgraph/uniswap/uniswap-v3\n",
    "#Subgraph pulling data from\n",
    "def run_query(query): \n",
    "    request = requests.post('https://api.thegraph.com/subgraphs/name/messari/curve-finance-ethereum',\n",
    "                            json={'query': query})\n",
    "    print(request)\n",
    "    if request.status_code == 200:\n",
    "        return request.json()\n",
    "    else:\n",
    "        raise Exception('Query failed and return code is {}.      {}'.format(request.status_code,\n",
    "                        query))"
   ]
  },
  {
   "cell_type": "code",
   "execution_count": 73,
   "id": "53597577",
   "metadata": {},
   "outputs": [
    {
     "name": "stdout",
     "output_type": "stream",
     "text": [
      "<Response [200]>\n",
      "{'data': {'tokens': [{'id': '0x0000000000085d4780b73119b644ae5ecd22b376', 'name': 'TrueUSD', 'symbol': 'TUSD', 'decimals': 18}, {'id': '0x0043fcb34e7470130fde28198571dee092c70bd7', 'name': 'Curve.fi Factory USD Metapool: RC_bBADGER_5_DAI_2021_6_30', 'symbol': 'RC_bBADGER3CRV-f', 'decimals': 18}, {'id': '0x0100546f2cd4c9d97f798ffc9755e47865ff7ee6', 'name': 'Alchemix ETH', 'symbol': 'alETH', 'decimals': 18}, {'id': '0x01880e5a97d827a2e77b3f2ca436a0a42fe2dc19', 'name': 'Ruler Protocol rToken', 'symbol': 'RC_ARMOR_0.15_DAI_2021_6_30', 'decimals': 18}, {'id': '0x01f7fd324b366380d2145dfa6c7a76fdb75f17b9', 'name': 'xRULER', 'symbol': 'xRULER', 'decimals': 18}, {'id': '0x01fe650ef2f8e2982295489ae6adc1413bf6011f', 'name': 'Curve.fi Factory Plain Pool: Tokemak tTCR/TCR', 'symbol': 'tTCR-f', 'decimals': 18}, {'id': '0x0212133321479b183637e52942564162bcc37c1d', 'name': 'Curve.fi Factory USD Metapool: RC_WETH_1400_DAI_2021_7_31', 'symbol': 'RC_WETH3CRV-f', 'decimals': 18}, {'id': '0x02355248c6bfe873d6e3d82cdc6e1fe54a63627a', 'name': 'Ruler Protocol rToken', 'symbol': 'RC_ALCX_700_DAI_2021_5_31', 'decimals': 18}, {'id': '0x028171bca77440897b824ca71d1c56cac55b68a3', 'name': 'Aave interest bearing DAI', 'symbol': 'aDAI', 'decimals': 18}, {'id': '0x02d341ccb60faaf662bc0554d13778015d1b285c', 'name': 'Curve.fi aDAI/aSUSD', 'symbol': 'saCRV', 'decimals': 18}, {'id': '0x030cafae2ece75ed411aeb53633fbed3092c3e32', 'name': 'Curve.fi Factory Crypto Pool: PAR/USDC', 'symbol': 'PARUSDC-f', 'decimals': 18}, {'id': '0x0316eb71485b0ab14103307bf65a021042c6d380', 'name': 'Huobi BTC', 'symbol': 'HBTC', 'decimals': 18}, {'id': '0x03ab458634910aad20ef5f1c8ee96f1d6ac54919', 'name': 'Rai Reflex Index', 'symbol': 'RAI', 'decimals': 18}, {'id': '0x0437ac6109e8a366a1f4816edf312a36952db856', 'name': 'Curve.fi Factory Plain Pool: Tokemak tSUSHI/SUSHI', 'symbol': 'tSUSHI-f', 'decimals': 18}, {'id': '0x0457e0ed628143b6a6a39f6e3458153f96abb26a', 'name': 'Curve.fi Factory USD Metapool: RC_BDI_150_DAI_2021_6_30', 'symbol': 'RC_BDI3CRV-f', 'decimals': 18}, {'id': '0x04bc0ab673d88ae9dbc9da2380cb6b79c4bca9ae', 'name': 'iearn BUSD', 'symbol': 'yBUSD', 'decimals': 18}, {'id': '0x04c90c198b2eff55716079bc06d7ccc4aa4d7512', 'name': 'Curve.fi Factory Plain Pool: Badger Locked CVX', 'symbol': 'bveCVX-CVX-f', 'decimals': 18}, {'id': '0x04ecd49246bf5143e43e2305136c46aeb6fad400', 'name': 'Curve.fi Factory Plain Pool: DYDX/stkDYDX', 'symbol': 'DYDXstDYDX-f', 'decimals': 18}, {'id': '0x056fd409e1d7a124bd7017459dfea2f387b6d5cd', 'name': 'Gemini dollar', 'symbol': 'GUSD', 'decimals': 2}, {'id': '0x06325440d014e39736583c165c2963ba99faf14e', 'name': 'Curve.fi ETH/stETH', 'symbol': 'steCRV', 'decimals': 18}, {'id': '0x06cb22615ba53e60d67bf6c341a0fd5e718e1655', 'name': 'Curve.fi Factory USD Metapool: FEI Metapool', 'symbol': 'FEI3CRV3CRV-f', 'decimals': 18}, {'id': '0x06d39e95977349431e3d800d49c63b4d472e10fb', 'name': 'Curve.fi Factory Plain Pool: Tokemak tWETH/WETH', 'symbol': 'tWETH+WETH-f', 'decimals': 18}, {'id': '0x07028f0eb368195e5bd7c621f25a08e2e4e63d54', 'name': 'Ruler Protocol rToken', 'symbol': 'RC_AMP_0.02_DAI_2021_7_31', 'decimals': 18}, {'id': '0x07350d8c30d463179de6a58764c21558db66dd9c', 'name': 'Curve.fi Factory Plain Pool: CPI2Pool', 'symbol': 'FPIVOLT-f', 'decimals': 18}, {'id': '0x0750da0ed0a4448ed516c326d702e7fee88f4ad9', 'name': 'Curve.fi Factory USD Metapool: RC_DEFI5_60_DAI_2021_5_31', 'symbol': 'RC_DEFI53CRV-f', 'decimals': 18}, {'id': '0x075b1bb99792c9e1041ba13afef80c91a1e70fb3', 'name': 'Curve.fi renBTC/wBTC/sBTC', 'symbol': 'crvRenWSBTC', 'decimals': 18}, {'id': '0x08cea8e5b4551722deb97113c139dd83c26c5398', 'name': 'Curve.fi Factory Crypto Pool: ibCHF/USDC', 'symbol': 'ibCHFUSDC-f', 'decimals': 18}, {'id': '0x08eaf78d40abfa6c341f05692eb48edca425ce04', 'name': 'Curve.fi Factory Plain Pool: Wanna Avoid Tether?', 'symbol': 'sansUSDT-f', 'decimals': 18}, {'id': '0x090185f2135308bad17527004364ebcc2d37e5f6', 'name': 'Spell Token', 'symbol': 'SPELL', 'decimals': 18}, {'id': '0x09c7a3ac261a45be1a6b8d8502035f4491f644ae', 'name': 'Ruler Protocol rToken', 'symbol': 'RC_ALCX_300_DAI_2021_6_30', 'decimals': 18}, {'id': '0x09eff23aeff4b0a89a31fbcaad85ee7248a5ac83', 'name': 'Curve.fi Factory Crypto Pool: USDC/STG', 'symbol': 'USDCSTG-f', 'decimals': 18}, {'id': '0x09f4b84a87fc81fc84220fd7287b613b8a9d4c05', 'name': 'Curve.fi idleDAI/idleUSDC/idleUSDT', 'symbol': 'i3CRV', 'decimals': 18}, {'id': '0x0a5e677a6a24b2f1a2bf4f3bffc443231d2fdec8', 'name': 'dForce USD', 'symbol': 'USX', 'decimals': 18}, {'id': '0x0c10bf8fcb7bf5412187a595ab97a3609160b5c6', 'name': 'Decentralized USD', 'symbol': 'USDD', 'decimals': 18}, {'id': '0x0c46ac7dc6a06fa5de5a6e74c0726f96c0319900', 'name': 'Curve.fi Factory USD Metapool: RC_xCOVER_90_DAI_2021_7_31', 'symbol': 'RC_xCOVER3CRV-f', 'decimals': 18}, {'id': '0x0cab5a7dcab521af5404fa604b85113267d38444', 'name': 'Opium xDAI OmniBridge Protection', 'symbol': 'OPIUM_LP_1c60', 'decimals': 6}, {'id': '0x0e2ec54fc0b509f445631bf4b91ab8168230c752', 'name': 'LINKUSD', 'symbol': 'LINKUSD', 'decimals': 18}, {'id': '0x0f644658510c95cb46955e55d7ba9dda9e9fbec6', 'name': 'Ubiquity Algorithmic Dollar', 'symbol': 'uAD', 'decimals': 18}, {'id': '0x0f83287ff768d1c1e17a42f44d644d7f22e8ee1d', 'name': 'Synth sCHF', 'symbol': 'sCHF', 'decimals': 18}, {'id': '0x0fafafd3c393ead5f5129cfc7e0e12367088c473', 'name': 'Curve.fi Factory USD Metapool: baoUSD', 'symbol': 'baoUSD-3CRV-f', 'decimals': 18}, {'id': '0x1005f7406f32a61bd760cfa14accd2737913d546', 'name': 'Curve.fi 2Pool USDC/USDT', 'symbol': '2CRV', 'decimals': 18}, {'id': '0x1033812efec8716bbae0c19e5678698d25e26edf', 'name': 'Curve.fi Factory USD Metapool: SORA XSTUSD', 'symbol': 'XSTUSD3CRV-f', 'decimals': 18}, {'id': '0x116172b2482c5dc3e6f445c16ac13367ac3fcd35', 'name': 'handleEUR', 'symbol': 'fxEUR', 'decimals': 18}, {'id': '0x11fbfe3a6c183dcd6fd9baa42fe39206174a6c00', 'name': 'Curve.fi Factory USD Metapool: RC_xCOVER_260_DAI_2021_5_31', 'symbol': 'RC_xCOVER3CRV-f', 'decimals': 18}, {'id': '0x127091ede112aed7bae281747771b3150bb047bb', 'name': 'Curve.fi Factory Crypto Pool: ibJPY/USDC', 'symbol': 'ibJPYUSDC-f', 'decimals': 18}, {'id': '0x1456688345527be1f37e9e627da0837d6f08c925', 'name': 'USDP Stablecoin', 'symbol': 'USDP', 'decimals': 18}, {'id': '0x148a88719ba0b34f16e0f5a7537da73bdc9c2a2a', 'name': 'Curve.fi Factory BTC Metapool: Orkan', 'symbol': 'ORK/sbtcCRV-f', 'decimals': 18}, {'id': '0x152d13e62952a7c74c536bb3c8b7bd91853f076a', 'name': 'Curve.fi Factory USD Metapool: FEI', 'symbol': 'FEI3CRV-f', 'decimals': 18}, {'id': '0x15a629f0665a3eb97d7ae9a7ce7abf73aeb79415', 'name': 'TokemaktTCR', 'symbol': 'tTCR', 'decimals': 18}, {'id': '0x16de59092dae5ccf4a1e6439d611fd0653f0bd01', 'name': 'iearn DAI', 'symbol': 'yDAI', 'decimals': 18}, {'id': '0x17fb5f39c55903de60e63543067031ce2b2659ee', 'name': 'Kashi Medium Risk SushiBar/Tether USD-Chainlink', 'symbol': 'kmxSUSHI/USDT-LINK', 'decimals': 6}, {'id': '0x18084fba666a33d37592fa2633fd49a74dd93a88', 'name': 'tBTC v2', 'symbol': 'tBTC', 'decimals': 18}, {'id': '0x18880a0cb468fc76ed63e023a0a510e9fb9fbd2f', 'name': 'Ruler Protocol rToken', 'symbol': 'RC_FEI_0.4_DAI_2021_4_30', 'decimals': 18}, {'id': '0x194ebd173f6cdace046c53eacce9b953f28411d1', 'name': 'Curve.fi EURS/sEUR', 'symbol': 'eursCRV', 'decimals': 18}, {'id': '0x196f4727526ea7fb1e17b2071b3d8eaa38486988', 'name': 'Reserve', 'symbol': 'RSV', 'decimals': 18}, {'id': '0x1977870a4c18a728c19dd4eb6542451df06e0a4b', 'name': 'Curve.fi Factory Plain Pool: ApeUSD-FRAX', 'symbol': 'ApeUSDFRAX-f', 'decimals': 18}, {'id': '0x1979f8296492ff9e6527eca47fc44bb30c391139', 'name': 'Curve.fi Factory Crypto Pool: CXD/ETH', 'symbol': 'CXDETH-f', 'decimals': 18}, {'id': '0x1a7e4e63778b4f12a199c062f3efdd288afcbce8', 'name': 'agEUR', 'symbol': 'agEUR', 'decimals': 18}, {'id': '0x1aef73d49dedc4b1778d0706583995958dc862e6', 'name': 'Curve.fi MUSD/3Crv', 'symbol': 'musd3CRV', 'decimals': 18}, {'id': '0x1b8577b2d5cde12f29f01c5c4d5420e5f4b25e5f', 'name': 'Curve.fi Factory Crypto Pool: JZC Miners', 'symbol': 'JZC/ETH-f', 'decimals': 18}, {'id': '0x1be5d71f2da660bfdee8012ddc58d024448a0a59', 'name': 'Curve (iearn fork) USDT', 'symbol': 'ycUSDT', 'decimals': 6}, {'id': '0x1bef2e5de862034fb0ed456df59d29ecadc9934c', 'name': 'NAOS USD', 'symbol': 'nUSD', 'decimals': 18}, {'id': '0x1c48f86ae57291f7686349f12601910bd8d470bb', 'name': 'USDK', 'symbol': 'USDK', 'decimals': 18}, {'id': '0x1c65ba665ce39cfe85639227eccf17be2b167058', 'name': 'Curve.fi Factory Plain Pool: UST-FRAX', 'symbol': 'UST-FRAX-f', 'decimals': 18}, {'id': '0x1cc481ce2bd2ec7bf67d1be64d4878b16078f309', 'name': 'Iron Bank CHF', 'symbol': 'ibCHF', 'decimals': 18}, {'id': '0x1ceb5cb57c4d4e2b2433641b95dd330a33185a44', 'name': 'Keep3rV1', 'symbol': 'KP3R', 'decimals': 18}, {'id': '0x1daf17e6d1d9ed6aa9fe9910ae17be98c2c4e6ba', 'name': 'Curve.fi Factory USD Metapool: RC_vETH2_850_DAI_2021_4_30', 'symbol': 'RC_vETH23CRV-f', 'decimals': 18}, {'id': '0x1e20205cd346cd8e5fca92fcea34ead4057e4ae5', 'name': 'Curve.fi Factory USD Metapool: RC_WETH_1600_DAI_2021_5_31', 'symbol': 'RC_WETH3CRV-f', 'decimals': 18}, {'id': '0x1e556f647f79e734530f2b354fbf339553fb1f6e', 'name': 'Curve.fi Factory USD Metapool: RC_ARMOR_0.35_DAI_2021_5_31', 'symbol': 'RC_ARMOR3CRV-f', 'decimals': 18}, {'id': '0x1f2930909396b40ef7b64aff8f148430b344e428', 'name': 'Ruler Protocol rToken', 'symbol': 'RC_vVSP_25_DAI_2021_5_31', 'decimals': 18}, {'id': '0x1f573d6fb3f13d689ff844b4ce37794d79a7ff1c', 'name': 'Bancor Network Token', 'symbol': 'BNT', 'decimals': 18}, {'id': '0x1f6bb2a7a2a84d08bb821b89e38ca651175aedd4', 'name': 'Curve.fi Factory Plain Pool: Ankr Reward-Earning Staked MATIC', 'symbol': 'aMATICb-f', 'decimals': 18}, {'id': '0x2009f19a8b46642e92ea19adcdfb23ab05fc20a6', 'name': 'Curve.fi Factory USD Metapool: RC_WETH_1650_DAI_2021_4_30-real', 'symbol': 'SifuETH3CRV-f', 'decimals': 18}, {'id': '0x203dd977cdb764176ac0fa12f96b3da377fdf5e5', 'name': 'Curve.fi Factory Crypto Pool: VIRTUE/ETH', 'symbol': 'VIRTETH-f', 'decimals': 18}, {'id': '0x203f6666028af5520d0364a1fcfe576be2747b5f', 'name': 'Ruler Protocol rToken', 'symbol': 'RC_iFARM_25_DAI_2021_7_31', 'decimals': 18}, {'id': '0x20955cb69ae1515962177d164dfc9522feef567e', 'name': 'Curve.fi Factory USD Metapool: Ubiquity Algorithmic Dollar', 'symbol': 'uAD3CRV-f', 'decimals': 18}, {'id': '0x2206cf41e7db9393a3bcbb6ad35d344811523b46', 'name': 'Curve.fi Factory USD Metapool: RC_xCOVER_100_DAI_2021_6_30', 'symbol': 'RC_xCOVER3CRV-f', 'decimals': 18}, {'id': '0x2260fac5e5542a773aa44fbcfedf7c193bc2c599', 'name': 'Wrapped BTC', 'symbol': 'WBTC', 'decimals': 8}, {'id': '0x22cf19eb64226e0e1a79c69b345b31466fd273a7', 'name': 'Curve.fi Factory Crypto Pool: ibGBP/USDC', 'symbol': 'ibGBPUSDC-f', 'decimals': 18}, {'id': '0x2302aabe69e6e7a1b0aa23aac68fccb8a4d2b460', 'name': 'Curve.fi Factory Crypto Pool: SILO/FRAX', 'symbol': 'silofrax-f', 'decimals': 18}, {'id': '0x23078d5bc3aad79aefa8773079ee703168f15cf5', 'name': 'Curve.fi Factory USD Metapool: RC_bBADGER_15_DAI_2021_4_30', 'symbol': 'RC_bBADGER3CRV-f', 'decimals': 18}, {'id': '0x2370f9d504c7a6e775bf6e14b3f12846b594cd53', 'name': 'JPY Coin', 'symbol': 'JPYC', 'decimals': 18}, {'id': '0x240558287687e0645f552c17865a28d64dccf8df', 'name': 'Curve.fi Factory Crypto Pool: ARTH', 'symbol': 'ARTH+3pool-f', 'decimals': 18}, {'id': '0x25ae7b9808f6cc3b5e9b8699b62b0395c3f01be0', 'name': 'noteUSD', 'symbol': 'noteUSD', 'decimals': 18}, {'id': '0x26ea744e5b887e5205727f55dfbe8685e3b21951', 'name': 'iearn USDC', 'symbol': 'yUSDC', 'decimals': 6}, {'id': '0x273afbf6e257aae160749a61d4b83e06a841c3eb', 'name': 'Curve.fi Factory USD Metapool: RC_MASK_700_DAI_2021_4_30', 'symbol': 'RC_MASK3CRV-f', 'decimals': 18}, {'id': '0x2a1e73bf81941630869c125194fbf8f5ec060ff0', 'name': 'Curve.fi Factory USD Metapool: RC_AMP_0.02_DAI_2021_7_31', 'symbol': 'RC_AMP3CRV-f', 'decimals': 18}, {'id': '0x2a8e1e676ec238d8a992307b495b45b3feaa5e86', 'name': 'Origin Dollar', 'symbol': 'OUSD', 'decimals': 18}, {'id': '0x2a924f39780c1ec568c2c2a169a13584a2e81e7d', 'name': 'Ruler Protocol rToken', 'symbol': 'RC_BOR_300_DAI_2021_4_30', 'decimals': 18}, {'id': '0x2b26239f52420d11420bc0982571bfe091417a7d', 'name': 'Curve.fi Factory USD Metapool: MIC2', 'symbol': 'MIC23CRV-f', 'decimals': 18}, {'id': '0x2c448acd9e04d34fe74059e3748287390e9bdda9', 'name': 'Ruler Protocol rToken', 'symbol': 'RC_xSUSHI_7_DAI_2021_5_31', 'decimals': 18}, {'id': '0x2da36a502ed49cf2d550edac6f6257252764fe04', 'name': 'Ruler Protocol rToken', 'symbol': 'RC_ibBTC_20000_DAI_2021_6_30', 'decimals': 18}, {'id': '0x2de8c952871317fb9f22c73bb66bf86a1eebe1a5', 'name': 'Curve.fi Factory USD Metapool: PWRD Metapool', 'symbol': 'PWRD3CRV3CRV-f', 'decimals': 18}, {'id': '0x2e9d63788249371f1dfc918a52f8d799f4a38c94', 'name': 'Tokemak', 'symbol': 'TOKE', 'decimals': 18}, {'id': '0x2ea853fd316a3d6e400bc688ad4a8f61efaab322', 'name': 'Ruler Protocol rToken', 'symbol': 'RC_PICKLE_7_DAI_2021_5_31', 'decimals': 18}, {'id': '0x2fc6e9c1b2c07e18632efe51879415a580ad22e1', 'name': 'TokemaktGAMMA', 'symbol': 'tGAMMA', 'decimals': 18}, {'id': '0x2fe269292f74f0a98c5786088317b4f86313c211', 'name': 'Pawn Coin', 'symbol': '$Pc', 'decimals': 18}, {'id': '0x2fe94ea3d5d4a175184081439753de15aef9d614', 'name': 'Curve.fi oBTC/sbtcCRV', 'symbol': 'oBTC/sbtcCRV', 'decimals': 18}, {'id': '0x3010c5746833bbd5f244bd42f97f20c45f2bbf25', 'name': 'Curve.fi Factory Crypto Pool: ALCX/ETH', 'symbol': 'ALCXETH-f', 'decimals': 18}, {'id': '0x31429d1856ad1377a8a0079410b297e1a9e214c2', 'name': 'ANGLE', 'symbol': 'ANGLE', 'decimals': 18}]}}\n"
     ]
    }
   ],
   "source": [
    "#Data for feeTier, spot price, and liquidity  of USDC WETH Liquidity Pool\n",
    "query =\"\"\"\n",
    "{\n",
    "  tokens {\n",
    "    id\n",
    "    name\n",
    "    symbol\n",
    "    decimals\n",
    "  }\n",
    "\n",
    "}\n",
    "\"\"\"\n",
    "result = run_query(query)  # Execute the query\n",
    "print(result)\n",
    "# pd.json_normalize(result)"
   ]
  },
  {
   "cell_type": "code",
   "execution_count": 74,
   "id": "cc660ed3",
   "metadata": {},
   "outputs": [
    {
     "name": "stdout",
     "output_type": "stream",
     "text": [
      "{'lendRates': [{'apy': 0.0861, 'apr': 0.0826, 'tokenSymbol': 'DAI'}, {'apy': 0, 'apr': 0, 'tokenSymbol': 'DPI'}, {'apy': 0.0412, 'apr': 0.0404, 'tokenSymbol': 'ETH'}, {'apy': 0.0494, 'apr': 0.0482, 'tokenSymbol': 'FRAX'}, {'apy': 0.0978, 'apr': 0.0933, 'tokenSymbol': 'LINK'}, {'apy': 0.0496, 'apr': 0.0484, 'tokenSymbol': 'USDC'}, {'apy': 0.0151, 'apr': 0.015, 'tokenSymbol': 'WBTC'}, {'apy': 0, 'apr': 0, 'tokenSymbol': 'UNI'}, {'apy': 0.0877, 'apr': 0.0841, 'tokenSymbol': 'USDT'}, {'apy': 0.1146, 'apr': 0.1085, 'tokenSymbol': 'VSP'}]}\n"
     ]
    }
   ],
   "source": [
    "import requests\n",
    "import numpy as np\n",
    "import pandas as pd\n",
    "\n",
    "\n",
    "res = requests.get(f'https://api.binance.com/api/v3/exchangeInfo').json()\n",
    "res2 = requests.get(f'https://api.binance.com/sapi/v1/staking/productList').json()\n",
    "res3 = requests.get(f'https://api.raydium.io/v2/main/pairs').json()\n",
    "res4 = requests.get(f'https://api.vesper.finance/loan-rates').json()\n",
    "print(res4)\n",
    "\n"
   ]
  },
  {
   "cell_type": "code",
   "execution_count": null,
   "id": "1db1dcab",
   "metadata": {},
   "outputs": [],
   "source": []
  },
  {
   "cell_type": "code",
   "execution_count": 75,
   "id": "1214b78b",
   "metadata": {},
   "outputs": [
    {
     "ename": "NameError",
     "evalue": "name 'Client' is not defined",
     "output_type": "error",
     "traceback": [
      "\u001b[0;31m---------------------------------------------------------------------------\u001b[0m",
      "\u001b[0;31mNameError\u001b[0m                                 Traceback (most recent call last)",
      "Input \u001b[0;32mIn [75]\u001b[0m, in \u001b[0;36m<module>\u001b[0;34m\u001b[0m\n\u001b[1;32m      3\u001b[0m \u001b[38;5;28;01mimport\u001b[39;00m \u001b[38;5;21;01mpandas\u001b[39;00m \u001b[38;5;28;01mas\u001b[39;00m \u001b[38;5;21;01mpd\u001b[39;00m\n\u001b[1;32m      4\u001b[0m \u001b[38;5;28;01mfrom\u001b[39;00m \u001b[38;5;21;01mbinance\u001b[39;00m\u001b[38;5;21;01m.\u001b[39;00m\u001b[38;5;21;01mspot\u001b[39;00m \u001b[38;5;28;01mimport\u001b[39;00m Spot\n\u001b[0;32m----> 6\u001b[0m client \u001b[38;5;241m=\u001b[39m \u001b[43mClient\u001b[49m(base_url\u001b[38;5;241m=\u001b[39m\u001b[38;5;124m'\u001b[39m\u001b[38;5;124mhttps://api.binance.com555138\u001b[39m\u001b[38;5;124m'\u001b[39m)\u001b[38;5;66;03m# Get server timestamp\u001b[39;00m\n\u001b[1;32m      7\u001b[0m \u001b[38;5;28mprint\u001b[39m(client\u001b[38;5;241m.\u001b[39mtime())\n\u001b[1;32m      9\u001b[0m \u001b[38;5;66;03m# res = requests.get(f'https://api.binance.com/sapi/v1/lending/project/list').json()\u001b[39;00m\n\u001b[1;32m     10\u001b[0m \u001b[38;5;66;03m# print(res)\u001b[39;00m\n",
      "\u001b[0;31mNameError\u001b[0m: name 'Client' is not defined"
     ]
    }
   ],
   "source": [
    "import requests\n",
    "import numpy as np\n",
    "import pandas as pd\n",
    "from binance.spot import Spot\n",
    "\n",
    "client = Client(base_url='https://api.binance.com555138')# Get server timestamp\n",
    "print(client.time())\n",
    "\n",
    "# res = requests.get(f'https://api.binance.com/sapi/v1/lending/project/list').json()\n",
    "# print(res)\n",
    "\n",
    "print(client.klines(\"BTCUSDT\", \"1m\"))\n",
    "# Get last 10 klines of BNBUSDT at 1h interval\n",
    "print(client.klines(\"BNBUSDT\", \"1h\", limit=10))\n",
    "\n"
   ]
  },
  {
   "cell_type": "code",
   "execution_count": null,
   "id": "5058ada6",
   "metadata": {},
   "outputs": [],
   "source": []
  },
  {
   "cell_type": "code",
   "execution_count": null,
   "id": "2352dd3d",
   "metadata": {},
   "outputs": [],
   "source": []
  }
 ],
 "metadata": {
  "kernelspec": {
   "display_name": "Python 3 (ipykernel)",
   "language": "python",
   "name": "python3"
  },
  "language_info": {
   "codemirror_mode": {
    "name": "ipython",
    "version": 3
   },
   "file_extension": ".py",
   "mimetype": "text/x-python",
   "name": "python",
   "nbconvert_exporter": "python",
   "pygments_lexer": "ipython3",
   "version": "3.8.9"
  }
 },
 "nbformat": 4,
 "nbformat_minor": 5
}
